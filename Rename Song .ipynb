{
 "cells": [
  {
   "cell_type": "code",
   "execution_count": 4,
   "id": "6324e53c",
   "metadata": {},
   "outputs": [
    {
     "name": "stdout",
     "output_type": "stream",
     "text": [
      "Enter the path :C:\\Users\\91898\\Downloads\\Songs\\\n",
      "C:/Users/91898/Downloads/Songs/\n",
      "['Gazab Ka Hai Din X Zara Sa X Kiss Me Thru The Phone - Remix song ! Hindi.mp3', 'goblin korean drama.mp3', 'Janiye_320(PagalWorld.com.se).mp3', 'Maan Meri Jaan_320(PagalWorld.com.se).mp3']\n"
     ]
    }
   ],
   "source": [
    "import os\n",
    "import random\n",
    "path = input(\"Enter the path :\").replace('\\\\','/')\n",
    "lst = []\n",
    "name = random.choice(lst)\n",
    "def rename():\n",
    "    i = 1\n",
    "    for filename in os.listdir(path):\n",
    "        if filename.endswith('.mp3'):\n",
    "            lst.append(filename)\n",
    "        new_name = +\"song\"+str(i)+'.mp3'\n",
    "        old_name = path+filename\n",
    "        os.rename(old_name,new_name)\n",
    "        i+=1\n",
    "    \n",
    "                    "
   ]
  },
  {
   "cell_type": "code",
   "execution_count": 16,
   "id": "6952e55d",
   "metadata": {
    "scrolled": true
   },
   "outputs": [
    {
     "name": "stdout",
     "output_type": "stream",
     "text": [
      "Enter the path :C:\\Users\\91898\\Downloads\\Songs\\\n",
      "['Gazab Ka Hai Din X Zara Sa X Kiss Me Thru The Phone - Remix song ! Hindi.mp3', 'Janiye_320(PagalWorld.com.se).mp3', 'Maan Meri Jaan_320(PagalWorld.com.se).mp3', 'song1.mp3']\n",
      "Old_name : Maan Meri Jaan_320(PagalWorld.com.se).mp3\n",
      "enter the new name with extension(.mp3):song2\n",
      "Old_Name: Maan Meri Jaan_320(PagalWorld.com.se).mp3\n",
      "New_Name: song2.mp3\n"
     ]
    }
   ],
   "source": [
    "import os\n",
    "import random\n",
    "path = input(\"Enter the path :\").replace(\"\\\\\",\"/\")\n",
    "lst = []\n",
    "i = 1\n",
    "for file in os.listdir(path):\n",
    "    if file.endswith(\".mp3\"):\n",
    "        lst.append(file)\n",
    "print(lst)\n",
    "name = random.choice(lst)\n",
    "print(\"Old_name :\",name)\n",
    "new_name = input(\"enter the new name :\")+\".mp3\"\n",
    "old_path = os.path.join(path,name)\n",
    "new_path = os.path.join(path,new_name)\n",
    "os.rename(old_path,new_path)\n",
    "print(f\"Old_Name: {name}\")\n",
    "print(f\"New_Name: {new_name}\")"
   ]
  },
  {
   "cell_type": "code",
   "execution_count": 18,
   "id": "05187a2f",
   "metadata": {},
   "outputs": [
    {
     "name": "stdout",
     "output_type": "stream",
     "text": [
      "Enter the path: C:\\Users\\91898\\Downloads\\Songs\\\n",
      "['Gazab Ka Hai Din X Zara Sa X Kiss Me Thru The Phone - Remix song ! Hindi.mp3', 'goblin korean drama.mp3', 'Janiye_320(PagalWorld.com.se).mp3', 'Maan Meri Jaan_320(PagalWorld.com.se).mp3']\n",
      "Renamed 'Gazab Ka Hai Din X Zara Sa X Kiss Me Thru The Phone - Remix song ! Hindi.mp3' to 'song1.mp3'.\n",
      "Renamed 'goblin korean drama.mp3' to 'song2.mp3'.\n",
      "Renamed 'Janiye_320(PagalWorld.com.se).mp3' to 'song3.mp3'.\n",
      "Renamed 'Maan Meri Jaan_320(PagalWorld.com.se).mp3' to 'song4.mp3'.\n"
     ]
    }
   ],
   "source": [
    "import os\n",
    "\n",
    "path = input(\"Enter the path: \").replace(\"\\\\\", \"/\")\n",
    "lst = []\n",
    "\n",
    "for file in os.listdir(path):\n",
    "    if file.endswith(\".mp3\"):\n",
    "        lst.append(file)\n",
    "\n",
    "print(lst)\n",
    "\n",
    "for old_name in lst:\n",
    "    new_name = f\"song{i}.mp3\"\n",
    "    old_path = os.path.join(path, old_name)\n",
    "    new_path = os.path.join(path, new_name)\n",
    "    os.rename(old_path, new_path)\n",
    "    print(f\"Renamed '{old_name}' to '{new_name}'.\")\n",
    "    i += 1\n"
   ]
  },
  {
   "cell_type": "code",
   "execution_count": null,
   "id": "7ab417e2",
   "metadata": {},
   "outputs": [],
   "source": []
  }
 ],
 "metadata": {
  "kernelspec": {
   "display_name": "Python 3 (ipykernel)",
   "language": "python",
   "name": "python3"
  },
  "language_info": {
   "codemirror_mode": {
    "name": "ipython",
    "version": 3
   },
   "file_extension": ".py",
   "mimetype": "text/x-python",
   "name": "python",
   "nbconvert_exporter": "python",
   "pygments_lexer": "ipython3",
   "version": "3.9.12"
  }
 },
 "nbformat": 4,
 "nbformat_minor": 5
}
