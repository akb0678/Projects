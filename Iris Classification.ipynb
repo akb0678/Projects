{
 "cells": [
  {
   "cell_type": "code",
   "execution_count": 53,
   "id": "6cf1f24c",
   "metadata": {},
   "outputs": [],
   "source": [
    "import pandas as pd\n",
    "import numpy as np\n",
    "import seaborn as sns\n",
    "import matplotlib.pyplot as plt\n",
    "import warnings\n",
    "warnings.filterwarnings('ignore')"
   ]
  },
  {
   "cell_type": "code",
   "execution_count": 54,
   "id": "4377ba8c",
   "metadata": {},
   "outputs": [
    {
     "data": {
      "text/html": [
       "<div>\n",
       "<style scoped>\n",
       "    .dataframe tbody tr th:only-of-type {\n",
       "        vertical-align: middle;\n",
       "    }\n",
       "\n",
       "    .dataframe tbody tr th {\n",
       "        vertical-align: top;\n",
       "    }\n",
       "\n",
       "    .dataframe thead th {\n",
       "        text-align: right;\n",
       "    }\n",
       "</style>\n",
       "<table border=\"1\" class=\"dataframe\">\n",
       "  <thead>\n",
       "    <tr style=\"text-align: right;\">\n",
       "      <th></th>\n",
       "      <th>Id</th>\n",
       "      <th>SepalLengthCm</th>\n",
       "      <th>SepalWidthCm</th>\n",
       "      <th>PetalLengthCm</th>\n",
       "      <th>PetalWidthCm</th>\n",
       "      <th>Species</th>\n",
       "    </tr>\n",
       "  </thead>\n",
       "  <tbody>\n",
       "    <tr>\n",
       "      <th>0</th>\n",
       "      <td>1</td>\n",
       "      <td>5.1</td>\n",
       "      <td>3.5</td>\n",
       "      <td>1.4</td>\n",
       "      <td>0.2</td>\n",
       "      <td>Iris-setosa</td>\n",
       "    </tr>\n",
       "    <tr>\n",
       "      <th>1</th>\n",
       "      <td>2</td>\n",
       "      <td>4.9</td>\n",
       "      <td>3.0</td>\n",
       "      <td>1.4</td>\n",
       "      <td>0.2</td>\n",
       "      <td>Iris-setosa</td>\n",
       "    </tr>\n",
       "    <tr>\n",
       "      <th>2</th>\n",
       "      <td>3</td>\n",
       "      <td>4.7</td>\n",
       "      <td>3.2</td>\n",
       "      <td>1.3</td>\n",
       "      <td>0.2</td>\n",
       "      <td>Iris-setosa</td>\n",
       "    </tr>\n",
       "    <tr>\n",
       "      <th>3</th>\n",
       "      <td>4</td>\n",
       "      <td>4.6</td>\n",
       "      <td>3.1</td>\n",
       "      <td>1.5</td>\n",
       "      <td>0.2</td>\n",
       "      <td>Iris-setosa</td>\n",
       "    </tr>\n",
       "    <tr>\n",
       "      <th>4</th>\n",
       "      <td>5</td>\n",
       "      <td>5.0</td>\n",
       "      <td>3.6</td>\n",
       "      <td>1.4</td>\n",
       "      <td>0.2</td>\n",
       "      <td>Iris-setosa</td>\n",
       "    </tr>\n",
       "  </tbody>\n",
       "</table>\n",
       "</div>"
      ],
      "text/plain": [
       "   Id  SepalLengthCm  SepalWidthCm  PetalLengthCm  PetalWidthCm      Species\n",
       "0   1            5.1           3.5            1.4           0.2  Iris-setosa\n",
       "1   2            4.9           3.0            1.4           0.2  Iris-setosa\n",
       "2   3            4.7           3.2            1.3           0.2  Iris-setosa\n",
       "3   4            4.6           3.1            1.5           0.2  Iris-setosa\n",
       "4   5            5.0           3.6            1.4           0.2  Iris-setosa"
      ]
     },
     "execution_count": 54,
     "metadata": {},
     "output_type": "execute_result"
    }
   ],
   "source": [
    "data = pd.read_csv(\"C:/Users/91898/Downloads/archive (2)/Iris.csv\")\n",
    "data.head()"
   ]
  },
  {
   "cell_type": "code",
   "execution_count": 55,
   "id": "8697a604",
   "metadata": {},
   "outputs": [
    {
     "data": {
      "text/html": [
       "<div>\n",
       "<style scoped>\n",
       "    .dataframe tbody tr th:only-of-type {\n",
       "        vertical-align: middle;\n",
       "    }\n",
       "\n",
       "    .dataframe tbody tr th {\n",
       "        vertical-align: top;\n",
       "    }\n",
       "\n",
       "    .dataframe thead th {\n",
       "        text-align: right;\n",
       "    }\n",
       "</style>\n",
       "<table border=\"1\" class=\"dataframe\">\n",
       "  <thead>\n",
       "    <tr style=\"text-align: right;\">\n",
       "      <th></th>\n",
       "      <th>Id</th>\n",
       "      <th>SepalLengthCm</th>\n",
       "      <th>SepalWidthCm</th>\n",
       "      <th>PetalLengthCm</th>\n",
       "      <th>PetalWidthCm</th>\n",
       "      <th>Species</th>\n",
       "    </tr>\n",
       "  </thead>\n",
       "  <tbody>\n",
       "    <tr>\n",
       "      <th>0</th>\n",
       "      <td>1</td>\n",
       "      <td>5.1</td>\n",
       "      <td>3.5</td>\n",
       "      <td>1.4</td>\n",
       "      <td>0.2</td>\n",
       "      <td>Iris-setosa</td>\n",
       "    </tr>\n",
       "    <tr>\n",
       "      <th>1</th>\n",
       "      <td>2</td>\n",
       "      <td>4.9</td>\n",
       "      <td>3.0</td>\n",
       "      <td>1.4</td>\n",
       "      <td>0.2</td>\n",
       "      <td>Iris-setosa</td>\n",
       "    </tr>\n",
       "    <tr>\n",
       "      <th>2</th>\n",
       "      <td>3</td>\n",
       "      <td>4.7</td>\n",
       "      <td>3.2</td>\n",
       "      <td>1.3</td>\n",
       "      <td>0.2</td>\n",
       "      <td>Iris-setosa</td>\n",
       "    </tr>\n",
       "    <tr>\n",
       "      <th>3</th>\n",
       "      <td>4</td>\n",
       "      <td>4.6</td>\n",
       "      <td>3.1</td>\n",
       "      <td>1.5</td>\n",
       "      <td>0.2</td>\n",
       "      <td>Iris-setosa</td>\n",
       "    </tr>\n",
       "    <tr>\n",
       "      <th>4</th>\n",
       "      <td>5</td>\n",
       "      <td>5.0</td>\n",
       "      <td>3.6</td>\n",
       "      <td>1.4</td>\n",
       "      <td>0.2</td>\n",
       "      <td>Iris-setosa</td>\n",
       "    </tr>\n",
       "    <tr>\n",
       "      <th>...</th>\n",
       "      <td>...</td>\n",
       "      <td>...</td>\n",
       "      <td>...</td>\n",
       "      <td>...</td>\n",
       "      <td>...</td>\n",
       "      <td>...</td>\n",
       "    </tr>\n",
       "    <tr>\n",
       "      <th>145</th>\n",
       "      <td>146</td>\n",
       "      <td>6.7</td>\n",
       "      <td>3.0</td>\n",
       "      <td>5.2</td>\n",
       "      <td>2.3</td>\n",
       "      <td>Iris-virginica</td>\n",
       "    </tr>\n",
       "    <tr>\n",
       "      <th>146</th>\n",
       "      <td>147</td>\n",
       "      <td>6.3</td>\n",
       "      <td>2.5</td>\n",
       "      <td>5.0</td>\n",
       "      <td>1.9</td>\n",
       "      <td>Iris-virginica</td>\n",
       "    </tr>\n",
       "    <tr>\n",
       "      <th>147</th>\n",
       "      <td>148</td>\n",
       "      <td>6.5</td>\n",
       "      <td>3.0</td>\n",
       "      <td>5.2</td>\n",
       "      <td>2.0</td>\n",
       "      <td>Iris-virginica</td>\n",
       "    </tr>\n",
       "    <tr>\n",
       "      <th>148</th>\n",
       "      <td>149</td>\n",
       "      <td>6.2</td>\n",
       "      <td>3.4</td>\n",
       "      <td>5.4</td>\n",
       "      <td>2.3</td>\n",
       "      <td>Iris-virginica</td>\n",
       "    </tr>\n",
       "    <tr>\n",
       "      <th>149</th>\n",
       "      <td>150</td>\n",
       "      <td>5.9</td>\n",
       "      <td>3.0</td>\n",
       "      <td>5.1</td>\n",
       "      <td>1.8</td>\n",
       "      <td>Iris-virginica</td>\n",
       "    </tr>\n",
       "  </tbody>\n",
       "</table>\n",
       "<p>150 rows × 6 columns</p>\n",
       "</div>"
      ],
      "text/plain": [
       "      Id  SepalLengthCm  SepalWidthCm  PetalLengthCm  PetalWidthCm  \\\n",
       "0      1            5.1           3.5            1.4           0.2   \n",
       "1      2            4.9           3.0            1.4           0.2   \n",
       "2      3            4.7           3.2            1.3           0.2   \n",
       "3      4            4.6           3.1            1.5           0.2   \n",
       "4      5            5.0           3.6            1.4           0.2   \n",
       "..   ...            ...           ...            ...           ...   \n",
       "145  146            6.7           3.0            5.2           2.3   \n",
       "146  147            6.3           2.5            5.0           1.9   \n",
       "147  148            6.5           3.0            5.2           2.0   \n",
       "148  149            6.2           3.4            5.4           2.3   \n",
       "149  150            5.9           3.0            5.1           1.8   \n",
       "\n",
       "            Species  \n",
       "0       Iris-setosa  \n",
       "1       Iris-setosa  \n",
       "2       Iris-setosa  \n",
       "3       Iris-setosa  \n",
       "4       Iris-setosa  \n",
       "..              ...  \n",
       "145  Iris-virginica  \n",
       "146  Iris-virginica  \n",
       "147  Iris-virginica  \n",
       "148  Iris-virginica  \n",
       "149  Iris-virginica  \n",
       "\n",
       "[150 rows x 6 columns]"
      ]
     },
     "execution_count": 55,
     "metadata": {},
     "output_type": "execute_result"
    }
   ],
   "source": [
    "data"
   ]
  },
  {
   "cell_type": "code",
   "execution_count": 56,
   "id": "0be7fe76",
   "metadata": {},
   "outputs": [
    {
     "data": {
      "text/plain": [
       "(150, 6)"
      ]
     },
     "execution_count": 56,
     "metadata": {},
     "output_type": "execute_result"
    }
   ],
   "source": [
    "data.shape"
   ]
  },
  {
   "cell_type": "code",
   "execution_count": 57,
   "id": "844968ad",
   "metadata": {
    "scrolled": true
   },
   "outputs": [
    {
     "data": {
      "text/plain": [
       "Id               0\n",
       "SepalLengthCm    0\n",
       "SepalWidthCm     0\n",
       "PetalLengthCm    0\n",
       "PetalWidthCm     0\n",
       "Species          0\n",
       "dtype: int64"
      ]
     },
     "execution_count": 57,
     "metadata": {},
     "output_type": "execute_result"
    }
   ],
   "source": [
    "data.isnull().sum()"
   ]
  },
  {
   "cell_type": "code",
   "execution_count": 60,
   "id": "47702a4b",
   "metadata": {},
   "outputs": [
    {
     "data": {
      "image/png": "[encoded data removed]",
      "text/plain": [
       "<Figure size 432x288 with 1 Axes>"
      ]
     },
     "metadata": {
      "needs_background": "light"
     },
     "output_type": "display_data"
    }
   ],
   "source": [
    "sns.distplot(data['SepalLengthCm'],kde = True)\n",
    "plt.show()"
   ]
  },
  {
   "cell_type": "code",
   "execution_count": 62,
   "id": "d1d5f11e",
   "metadata": {
    "scrolled": false
   },
   "outputs": [
    {
     "data": {
      "image/png": "[encoded data removed]",
      "text/plain": [
       "<Figure size 432x288 with 1 Axes>"
      ]
     },
     "metadata": {
      "needs_background": "light"
     },
     "output_type": "display_data"
    }
   ],
   "source": [
    "sns.distplot(data['SepalWidthCm'],kde = True)\n",
    "plt.show()"
   ]
  },
  {
   "cell_type": "code",
   "execution_count": 65,
   "id": "2384fcc6",
   "metadata": {},
   "outputs": [
    {
     "data": {
      "image/png": "[encoded data removed]",
      "text/plain": [
       "<Figure size 432x288 with 1 Axes>"
      ]
     },
     "metadata": {
      "needs_background": "light"
     },
     "output_type": "display_data"
    }
   ],
   "source": [
    "sns.distplot(data['PetalLengthCm'],kde = True)\n",
    "plt.show()"
   ]
  },
  {
   "cell_type": "code",
   "execution_count": 64,
   "id": "16e254dd",
   "metadata": {
    "scrolled": true
   },
   "outputs": [
    {
     "data": {
      "image/png": "[encoded data removed]",
      "text/plain": [
       "<Figure size 432x288 with 1 Axes>"
      ]
     },
     "metadata": {
      "needs_background": "light"
     },
     "output_type": "display_data"
    }
   ],
   "source": [
    "sns.distplot(data['PetalWidthCm'],kde = True)\n",
    "plt.show()"
   ]
  },
  {
   "cell_type": "code",
   "execution_count": null,
   "id": "24f42c9a",
   "metadata": {},
   "outputs": [],
   "source": [
    "colors =['red','blue','green']\n",
    "species = []"
   ]
  },
  {
   "cell_type": "code",
   "execution_count": 63,
   "id": "bbebc066",
   "metadata": {},
   "outputs": [
    {
     "data": {
      "text/plain": [
       "<AxesSubplot:>"
      ]
     },
     "execution_count": 63,
     "metadata": {},
     "output_type": "execute_result"
    },
    {
     "data": {
      "image/png": "[encoded data removed]",
      "text/plain": [
       "<Figure size 432x288 with 1 Axes>"
      ]
     },
     "metadata": {
      "needs_background": "light"
     },
     "output_type": "display_data"
    }
   ],
   "source": [
    "data['SepalWidthCm'].hist()"
   ]
  },
  {
   "cell_type": "code",
   "execution_count": 61,
   "id": "da4e5f82",
   "metadata": {},
   "outputs": [
    {
     "data": {
      "text/plain": [
       "<AxesSubplot:>"
      ]
     },
     "execution_count": 61,
     "metadata": {},
     "output_type": "execute_result"
    },
    {
     "data": {
      "image/png": "[encoded data removed]",
      "text/plain": [
       "<Figure size 432x288 with 1 Axes>"
      ]
     },
     "metadata": {
      "needs_background": "light"
     },
     "output_type": "display_data"
    }
   ],
   "source": [
    "data['SepalLengthCm'].hist()"
   ]
  },
  {
   "cell_type": "code",
   "execution_count": 32,
   "id": "58a9a74c",
   "metadata": {},
   "outputs": [],
   "source": [
    "from sklearn.preprocessing import LabelEncoder\n",
    "le = LabelEncoder()"
   ]
  },
  {
   "cell_type": "code",
   "execution_count": 35,
   "id": "10dc752f",
   "metadata": {},
   "outputs": [
    {
     "data": {
      "text/html": [
       "<div>\n",
       "<style scoped>\n",
       "    .dataframe tbody tr th:only-of-type {\n",
       "        vertical-align: middle;\n",
       "    }\n",
       "\n",
       "    .dataframe tbody tr th {\n",
       "        vertical-align: top;\n",
       "    }\n",
       "\n",
       "    .dataframe thead th {\n",
       "        text-align: right;\n",
       "    }\n",
       "</style>\n",
       "<table border=\"1\" class=\"dataframe\">\n",
       "  <thead>\n",
       "    <tr style=\"text-align: right;\">\n",
       "      <th></th>\n",
       "      <th>Id</th>\n",
       "      <th>SepalLengthCm</th>\n",
       "      <th>SepalWidthCm</th>\n",
       "      <th>PetalLengthCm</th>\n",
       "      <th>PetalWidthCm</th>\n",
       "      <th>Species</th>\n",
       "    </tr>\n",
       "  </thead>\n",
       "  <tbody>\n",
       "    <tr>\n",
       "      <th>0</th>\n",
       "      <td>1</td>\n",
       "      <td>5.1</td>\n",
       "      <td>3.5</td>\n",
       "      <td>1.4</td>\n",
       "      <td>0.2</td>\n",
       "      <td>0</td>\n",
       "    </tr>\n",
       "    <tr>\n",
       "      <th>1</th>\n",
       "      <td>2</td>\n",
       "      <td>4.9</td>\n",
       "      <td>3.0</td>\n",
       "      <td>1.4</td>\n",
       "      <td>0.2</td>\n",
       "      <td>0</td>\n",
       "    </tr>\n",
       "    <tr>\n",
       "      <th>2</th>\n",
       "      <td>3</td>\n",
       "      <td>4.7</td>\n",
       "      <td>3.2</td>\n",
       "      <td>1.3</td>\n",
       "      <td>0.2</td>\n",
       "      <td>0</td>\n",
       "    </tr>\n",
       "    <tr>\n",
       "      <th>3</th>\n",
       "      <td>4</td>\n",
       "      <td>4.6</td>\n",
       "      <td>3.1</td>\n",
       "      <td>1.5</td>\n",
       "      <td>0.2</td>\n",
       "      <td>0</td>\n",
       "    </tr>\n",
       "    <tr>\n",
       "      <th>4</th>\n",
       "      <td>5</td>\n",
       "      <td>5.0</td>\n",
       "      <td>3.6</td>\n",
       "      <td>1.4</td>\n",
       "      <td>0.2</td>\n",
       "      <td>0</td>\n",
       "    </tr>\n",
       "    <tr>\n",
       "      <th>...</th>\n",
       "      <td>...</td>\n",
       "      <td>...</td>\n",
       "      <td>...</td>\n",
       "      <td>...</td>\n",
       "      <td>...</td>\n",
       "      <td>...</td>\n",
       "    </tr>\n",
       "    <tr>\n",
       "      <th>145</th>\n",
       "      <td>146</td>\n",
       "      <td>6.7</td>\n",
       "      <td>3.0</td>\n",
       "      <td>5.2</td>\n",
       "      <td>2.3</td>\n",
       "      <td>2</td>\n",
       "    </tr>\n",
       "    <tr>\n",
       "      <th>146</th>\n",
       "      <td>147</td>\n",
       "      <td>6.3</td>\n",
       "      <td>2.5</td>\n",
       "      <td>5.0</td>\n",
       "      <td>1.9</td>\n",
       "      <td>2</td>\n",
       "    </tr>\n",
       "    <tr>\n",
       "      <th>147</th>\n",
       "      <td>148</td>\n",
       "      <td>6.5</td>\n",
       "      <td>3.0</td>\n",
       "      <td>5.2</td>\n",
       "      <td>2.0</td>\n",
       "      <td>2</td>\n",
       "    </tr>\n",
       "    <tr>\n",
       "      <th>148</th>\n",
       "      <td>149</td>\n",
       "      <td>6.2</td>\n",
       "      <td>3.4</td>\n",
       "      <td>5.4</td>\n",
       "      <td>2.3</td>\n",
       "      <td>2</td>\n",
       "    </tr>\n",
       "    <tr>\n",
       "      <th>149</th>\n",
       "      <td>150</td>\n",
       "      <td>5.9</td>\n",
       "      <td>3.0</td>\n",
       "      <td>5.1</td>\n",
       "      <td>1.8</td>\n",
       "      <td>2</td>\n",
       "    </tr>\n",
       "  </tbody>\n",
       "</table>\n",
       "<p>150 rows × 6 columns</p>\n",
       "</div>"
      ],
      "text/plain": [
       "      Id  SepalLengthCm  SepalWidthCm  PetalLengthCm  PetalWidthCm  Species\n",
       "0      1            5.1           3.5            1.4           0.2        0\n",
       "1      2            4.9           3.0            1.4           0.2        0\n",
       "2      3            4.7           3.2            1.3           0.2        0\n",
       "3      4            4.6           3.1            1.5           0.2        0\n",
       "4      5            5.0           3.6            1.4           0.2        0\n",
       "..   ...            ...           ...            ...           ...      ...\n",
       "145  146            6.7           3.0            5.2           2.3        2\n",
       "146  147            6.3           2.5            5.0           1.9        2\n",
       "147  148            6.5           3.0            5.2           2.0        2\n",
       "148  149            6.2           3.4            5.4           2.3        2\n",
       "149  150            5.9           3.0            5.1           1.8        2\n",
       "\n",
       "[150 rows x 6 columns]"
      ]
     },
     "execution_count": 35,
     "metadata": {},
     "output_type": "execute_result"
    }
   ],
   "source": [
    "data['Species'] = le.fit_transform(data['Species'])\n",
    "data"
   ]
  },
  {
   "cell_type": "code",
   "execution_count": 36,
   "id": "eba66914",
   "metadata": {},
   "outputs": [],
   "source": [
    "X = data.drop('Species',axis = 1)\n",
    "y = data['Species']"
   ]
  },
  {
   "cell_type": "code",
   "execution_count": 38,
   "id": "5d0dc5d5",
   "metadata": {},
   "outputs": [
    {
     "data": {
      "text/plain": [
       "((112, 5), (38, 5))"
      ]
     },
     "execution_count": 38,
     "metadata": {},
     "output_type": "execute_result"
    }
   ],
   "source": [
    "from sklearn.model_selection import train_test_split\n",
    "X_train,X_test,y_train,y_test = train_test_split(X,y,test_size = 0.25,random_state = 0)\n",
    "X_train.shape,X_test.shape"
   ]
  },
  {
   "cell_type": "code",
   "execution_count": 43,
   "id": "ce8c0996",
   "metadata": {},
   "outputs": [
    {
     "data": {
      "text/plain": [
       "array([[-3.41283725e-01,  1.54399532e-02, -1.19254753e-01,\n",
       "         2.25126850e-01,  3.56381749e-01],\n",
       "       [ 3.50852428e-01, -9.98450310e-02, -1.04039491e+00,\n",
       "         1.13559562e-01, -2.86480506e-02],\n",
       "       [ 7.97391882e-01,  1.05300481e+00, -1.19254753e-01,\n",
       "         9.50314227e-01,  1.12644135e+00],\n",
       "       [-1.65857511e+00, -1.36797986e+00,  3.41315328e-01,\n",
       "        -1.39259884e+00, -1.31208072e+00],\n",
       "       [ 1.44487409e+00,  1.16828980e+00,  1.11030287e-01,\n",
       "         7.27179649e-01,  1.38312788e+00],\n",
       "       [-7.43169234e-01, -1.02212490e+00,  1.03217045e+00,\n",
       "        -1.22524790e+00, -7.98707650e-01],\n",
       "       [-1.47995933e+00, -5.60984968e-01,  1.49274053e+00,\n",
       "        -1.28103155e+00, -1.31208072e+00],\n",
       "       [-3.63610698e-01, -1.02212490e+00, -2.42210516e+00,\n",
       "        -1.65358660e-01, -2.85334584e-01],\n",
       "       [ 8.86699773e-01,  7.07149859e-01, -1.19254753e-01,\n",
       "         9.50314227e-01,  7.41411549e-01],\n",
       "       [ 1.51185501e+00,  9.37719827e-01,  5.71600368e-01,\n",
       "         1.06188152e+00,  1.63981441e+00],\n",
       "       [ 9.53680691e-01,  1.30724937e-01, -1.96153508e+00,\n",
       "         6.71396005e-01,  3.56381749e-01],\n",
       "       [ 7.08083991e-01,  9.37719827e-01, -1.27067995e+00,\n",
       "         1.11766516e+00,  7.41411549e-01],\n",
       "       [-1.62667944e-01, -3.30414999e-01, -1.27067995e+00,\n",
       "         5.77759173e-02, -1.56991317e-01],\n",
       "       [ 1.31091225e+00,  2.09056967e+00, -1.19254753e-01,\n",
       "         1.28501609e+00,  1.38312788e+00],\n",
       "       [-4.52918589e-01,  4.76579890e-01,  5.71600368e-01,\n",
       "         5.04045072e-01,  4.84725016e-01],\n",
       "       [ 8.29287557e-02, -4.45699984e-01, -1.50096499e+00,\n",
       "         1.99227301e-03, -1.56991317e-01],\n",
       "       [ 1.04298858e+00,  4.76579890e-01, -8.10109874e-01,\n",
       "         6.15612361e-01,  7.41411549e-01],\n",
       "       [ 1.26625831e+00,  4.76579890e-01, -5.79824834e-01,\n",
       "         7.27179649e-01,  3.56381749e-01],\n",
       "       [ 6.63430046e-01, -1.13740989e+00, -1.27067995e+00,\n",
       "         3.92477783e-01,  6.13068282e-01],\n",
       "       [ 1.55650895e+00,  4.76579890e-01, -1.27067995e+00,\n",
       "         6.71396005e-01,  8.69754815e-01],\n",
       "       [-5.86880425e-01,  1.28357478e+00,  3.41315328e-01,\n",
       "         5.04045072e-01,  2.28038483e-01],\n",
       "       [ 1.57883593e+00,  7.07149859e-01, -1.19254753e-01,\n",
       "         7.82963294e-01,  9.98098082e-01],\n",
       "       [ 1.94563619e-01,  1.30724937e-01,  8.01885408e-01,\n",
       "         3.92477783e-01,  4.84725016e-01],\n",
       "       [-1.03341988e+00, -1.25269487e+00,  1.11030287e-01,\n",
       "        -1.22524790e+00, -1.31208072e+00],\n",
       "       [ 5.51795182e-01, -9.98450310e-02, -8.10109874e-01,\n",
       "         7.27179649e-01,  8.69754815e-01],\n",
       "       [ 3.95506373e-01, -3.30414999e-01, -8.10109874e-01,\n",
       "         2.25126850e-01,  9.96952160e-02],\n",
       "       [-2.74302807e-01, -3.30414999e-01, -3.49539793e-01,\n",
       "        -1.09575016e-01,  9.96952160e-02],\n",
       "       [ 2.83871510e-01, -4.45699984e-01, -1.27067995e+00,\n",
       "         1.13559562e-01,  9.96952160e-02],\n",
       "       [ 3.28525455e-01,  2.46009922e-01, -1.19254753e-01,\n",
       "         4.48261428e-01,  2.28038483e-01],\n",
       "       [ 1.08764253e+00,  1.51414475e+00,  3.41315328e-01,\n",
       "         1.22923245e+00,  7.41411549e-01],\n",
       "       [-6.31534370e-01, -6.76269952e-01,  1.49274053e+00,\n",
       "        -1.28103155e+00, -1.31208072e+00],\n",
       "       [-1.41297841e+00, -1.82911979e+00, -1.19254753e-01,\n",
       "        -1.50416612e+00, -1.44042398e+00],\n",
       "       [ 7.75064909e-01,  5.91864874e-01, -8.10109874e-01,\n",
       "         8.38746938e-01,  8.69754815e-01],\n",
       "       [ 4.17833346e-01, -2.15130015e-01, -1.19254753e-01,\n",
       "         2.25126850e-01, -2.86480506e-02],\n",
       "       [-1.25668961e+00, -5.60984968e-01,  8.01885408e-01,\n",
       "        -1.16946426e+00, -1.31208072e+00],\n",
       "       [-1.36832447e+00, -2.15130015e-01,  3.10473581e+00,\n",
       "        -1.28103155e+00, -1.05539418e+00],\n",
       "       [-5.42226480e-01,  1.16828980e+00,  1.11030287e-01,\n",
       "         6.15612361e-01,  3.56381749e-01],\n",
       "       [-1.63624814e+00, -1.48326484e+00,  1.11030287e-01,\n",
       "        -1.28103155e+00, -1.31208072e+00],\n",
       "       [ 1.62348987e+00,  1.54399532e-02, -1.19254753e-01,\n",
       "         7.27179649e-01,  7.41411549e-01],\n",
       "       [ 4.84814264e-01, -9.06839920e-01, -1.27067995e+00,\n",
       "        -4.44276882e-01, -1.56991317e-01],\n",
       "       [-1.56926722e+00, -1.48326484e+00,  8.01885408e-01,\n",
       "        -1.33681519e+00, -1.18373745e+00],\n",
       "       [-1.84994917e-01,  3.61294906e-01, -1.96153508e+00,\n",
       "         3.92477783e-01,  3.56381749e-01],\n",
       "       [ 7.30410964e-01,  1.51414475e+00,  1.26245549e+00,\n",
       "         1.28501609e+00,  1.63981441e+00],\n",
       "       [ 4.40160319e-01, -2.15130015e-01, -3.49539793e-01,\n",
       "         2.25126850e-01,  9.96952160e-02],\n",
       "       [-1.43530539e+00, -1.25269487e+00, -1.19254753e-01,\n",
       "        -1.33681519e+00, -1.44042398e+00],\n",
       "       [ 5.74122155e-01,  1.39885976e+00, -1.19254753e-01,\n",
       "         1.17344880e+00,  1.12644135e+00],\n",
       "       [ 9.76007663e-01,  1.16828980e+00,  3.41315328e-01,\n",
       "         1.06188152e+00,  1.38312788e+00],\n",
       "       [ 6.18776100e-01,  7.07149859e-01, -1.19254753e-01,\n",
       "         1.11766516e+00,  1.25478461e+00],\n",
       "       [ 1.15462345e+00,  5.91864874e-01, -5.79824834e-01,\n",
       "         1.00609787e+00,  1.12644135e+00],\n",
       "       [-6.76188316e-01, -9.06839920e-01,  1.72302557e+00,\n",
       "        -1.22524790e+00, -1.31208072e+00],\n",
       "       [-1.45763236e+00, -1.25269487e+00,  8.01885408e-01,\n",
       "        -1.22524790e+00, -1.31208072e+00],\n",
       "       [ 7.52737937e-01,  7.07149859e-01,  3.41315328e-01,\n",
       "         7.27179649e-01,  9.98098082e-01],\n",
       "       [ 1.06531555e+00,  9.37719827e-01,  5.71600368e-01,\n",
       "         1.06188152e+00,  1.12644135e+00],\n",
       "       [-7.87823179e-01, -1.59854983e+00, -1.73125004e+00,\n",
       "        -1.39259884e+00, -1.18373745e+00],\n",
       "       [ 1.60116290e+00,  3.61294906e-01,  8.01885408e-01,\n",
       "         8.94530582e-01,  1.38312788e+00],\n",
       "       [-1.68090209e+00, -1.13740989e+00, -1.19254753e-01,\n",
       "        -1.33681519e+00, -1.31208072e+00],\n",
       "       [ 8.19718855e-01, -2.15130015e-01, -1.27067995e+00,\n",
       "         6.71396005e-01,  9.98098082e-01],\n",
       "       [ 1.40022014e+00,  1.16828980e+00,  1.11030287e-01,\n",
       "         8.94530582e-01,  1.12644135e+00],\n",
       "       [-7.65496207e-01, -1.71383481e+00,  3.41315328e-01,\n",
       "        -1.39259884e+00, -1.31208072e+00],\n",
       "       [-1.61392117e+00, -1.02212490e+00,  1.26245549e+00,\n",
       "        -1.33681519e+00, -1.31208072e+00],\n",
       "       [ 1.17695042e+00,  1.51414475e+00, -1.19254753e-01,\n",
       "         1.11766516e+00,  4.84725016e-01],\n",
       "       [-1.32367052e+00, -9.06839920e-01,  1.03217045e+00,\n",
       "        -1.33681519e+00, -1.18373745e+00],\n",
       "       [-8.54804097e-01, -1.71383481e+00, -1.19254753e-01,\n",
       "        -1.39259884e+00, -1.31208072e+00],\n",
       "       [-1.59159420e+00, -5.60984968e-01,  1.95331061e+00,\n",
       "        -1.16946426e+00, -1.05539418e+00],\n",
       "       [-5.19899507e-01, -4.45699984e-01, -1.73125004e+00,\n",
       "         1.13559562e-01,  9.96952160e-02],\n",
       "       [ 1.48952804e+00,  1.05300481e+00,  3.41315328e-01,\n",
       "         1.17344880e+00,  1.38312788e+00],\n",
       "       [ 6.41103073e-01,  1.97528468e+00, -1.19254753e-01,\n",
       "         1.56393431e+00,  1.12644135e+00],\n",
       "       [-1.70322906e+00, -9.06839920e-01,  1.03217045e+00,\n",
       "        -1.33681519e+00, -1.31208072e+00],\n",
       "       [-9.44111988e-01, -1.13740989e+00,  1.11030287e-01,\n",
       "        -1.28103155e+00, -1.44042398e+00],\n",
       "       [-1.07807382e+00, -7.91554936e-01,  8.01885408e-01,\n",
       "        -1.33681519e+00, -1.31208072e+00],\n",
       "       [-4.75245562e-01, -2.15130015e-01, -5.79824834e-01,\n",
       "         3.92477783e-01,  9.96952160e-02],\n",
       "       [-2.87061077e-02,  8.22434843e-01, -1.19254753e-01,\n",
       "         3.36694139e-01,  2.28038483e-01],\n",
       "       [-9.21785016e-01, -1.02212490e+00,  3.41315328e-01,\n",
       "        -1.44838248e+00, -1.31208072e+00],\n",
       "       [-1.18970869e+00, -9.06839920e-01,  5.71600368e-01,\n",
       "        -1.16946426e+00, -9.27050916e-01],\n",
       "       [-5.10330804e-02,  5.91864874e-01, -3.49539793e-01,\n",
       "         2.80910495e-01,  9.96952160e-02],\n",
       "       [-1.01109291e+00, -5.60984968e-01,  8.01885408e-01,\n",
       "        -1.28103155e+00, -1.05539418e+00],\n",
       "       [ 9.31353718e-01,  2.09056967e+00, -1.04039491e+00,\n",
       "         1.73128525e+00,  1.38312788e+00],\n",
       "       [-4.30591616e-01, -1.13740989e+00, -1.50096499e+00,\n",
       "        -2.76925949e-01, -2.85334584e-01],\n",
       "       [ 1.22160436e+00,  2.32113964e+00,  1.72302557e+00,\n",
       "         1.45236703e+00,  9.98098082e-01],\n",
       "       [-2.51975835e-01,  9.37719827e-01,  1.11030287e-01,\n",
       "         3.36694139e-01,  2.28038483e-01],\n",
       "       [-9.88765934e-01, -7.91554936e-01,  2.41388069e+00,\n",
       "        -1.28103155e+00, -1.44042398e+00],\n",
       "       [ 1.37789317e+00,  1.30724937e-01, -1.19254753e-01,\n",
       "         5.59828716e-01,  7.41411549e-01],\n",
       "       [-1.39065144e+00, -9.98450310e-02,  2.18359565e+00,\n",
       "        -1.44838248e+00, -1.31208072e+00],\n",
       "       [ 1.02066161e+00,  2.09056967e+00, -5.79824834e-01,\n",
       "         1.61971796e+00,  9.98098082e-01],\n",
       "       [-1.27901658e+00, -9.06839920e-01,  1.72302557e+00,\n",
       "        -1.28103155e+00, -1.18373745e+00],\n",
       "       [-1.05574685e+00, -1.36797986e+00,  3.41315328e-01,\n",
       "        -1.22524790e+00, -1.31208072e+00],\n",
       "       [ 1.19927739e+00,  1.74471472e+00, -5.79824834e-01,\n",
       "         1.28501609e+00,  8.69754815e-01],\n",
       "       [-6.09207398e-01, -1.02212490e+00,  5.71600368e-01,\n",
       "        -1.33681519e+00, -1.31208072e+00],\n",
       "       [ 1.33323923e+00,  4.76579890e-01,  8.01885408e-01,\n",
       "         1.00609787e+00,  1.51147115e+00],\n",
       "       [ 5.07141237e-01, -2.15130015e-01, -5.79824834e-01,\n",
       "         1.69343206e-01,  9.96952160e-02],\n",
       "       [ 1.27582701e-01, -9.98450310e-02, -8.10109874e-01,\n",
       "         5.77759173e-02, -2.86480506e-02],\n",
       "       [ 6.06017830e-02, -2.15130015e-01, -1.04039491e+00,\n",
       "        -1.65358660e-01, -2.85334584e-01],\n",
       "       [ 8.64372800e-01,  5.91864874e-01,  3.41315328e-01,\n",
       "         8.38746938e-01,  1.38312788e+00],\n",
       "       [ 1.53418198e+00,  9.37719827e-01, -1.19254753e-01,\n",
       "         7.82963294e-01,  1.38312788e+00],\n",
       "       [-9.56870258e-02,  4.76579890e-01, -1.27067995e+00,\n",
       "         6.15612361e-01,  3.56381749e-01],\n",
       "       [ 1.59478376e-02,  9.37719827e-01, -1.19254753e-01,\n",
       "         6.71396005e-01,  6.13068282e-01],\n",
       "       [-1.14505474e+00, -1.02212490e+00, -1.19254753e-01,\n",
       "        -1.22524790e+00, -1.31208072e+00],\n",
       "       [ 1.05255728e-01, -4.45699984e-01, -1.50096499e+00,\n",
       "        -5.37913713e-02, -2.85334584e-01],\n",
       "       [ 1.42254712e+00,  9.37719827e-01,  1.11030287e-01,\n",
       "         1.00609787e+00,  1.51147115e+00],\n",
       "       [ 1.46720106e+00, -9.98450310e-02, -8.10109874e-01,\n",
       "         7.27179649e-01,  8.69754815e-01],\n",
       "       [-8.32477125e-01, -9.06839920e-01,  8.01885408e-01,\n",
       "        -1.28103155e+00, -1.31208072e+00],\n",
       "       [-4.08264644e-01,  8.22434843e-01, -3.49539793e-01,\n",
       "         4.48261428e-01,  9.96952160e-02],\n",
       "       [ 2.61544537e-01, -3.30414999e-01, -1.19254753e-01,\n",
       "         1.69343206e-01,  9.96952160e-02],\n",
       "       [-1.40340971e-01,  1.54399532e-02,  3.41315328e-01,\n",
       "         5.59828716e-01,  7.41411549e-01],\n",
       "       [ 2.39217565e-01,  4.76579890e-01, -1.73125004e+00,\n",
       "         3.36694139e-01,  9.96952160e-02],\n",
       "       [-8.99458043e-01, -4.45699984e-01,  1.03217045e+00,\n",
       "        -1.39259884e+00, -1.31208072e+00],\n",
       "       [-1.23436263e+00, -9.06839920e-01,  1.49274053e+00,\n",
       "        -1.28103155e+00, -1.05539418e+00],\n",
       "       [-1.50228631e+00, -1.13740989e+00,  1.11030287e-01,\n",
       "        -1.28103155e+00, -1.44042398e+00],\n",
       "       [ 5.96449128e-01,  4.76579890e-01, -3.49539793e-01,\n",
       "         1.00609787e+00,  7.41411549e-01],\n",
       "       [-2.07321889e-01, -9.98450310e-02, -8.10109874e-01,\n",
       "         1.69343206e-01, -2.85334584e-01],\n",
       "       [ 9.09026745e-01,  2.09056967e+00,  1.72302557e+00,\n",
       "         1.61971796e+00,  1.25478461e+00],\n",
       "       [-6.53861343e-01, -1.48326484e+00,  3.41315328e-01,\n",
       "        -1.33681519e+00, -1.31208072e+00]])"
      ]
     },
     "execution_count": 43,
     "metadata": {},
     "output_type": "execute_result"
    }
   ],
   "source": [
    "from sklearn.preprocessing import StandardScaler\n",
    "\n",
    "ss = StandardScaler()\n",
    "\n",
    "ss.fit_transform(X_train)"
   ]
  },
  {
   "cell_type": "code",
   "execution_count": 44,
   "id": "25c02971",
   "metadata": {},
   "outputs": [
    {
     "data": {
      "text/plain": [
       "array([[ 1.17499586,  0.12564197, -0.6117992 ,  0.88098019,  1.81979323],\n",
       "       [-0.18996112,  0.42404164, -2.0207913 ,  0.21386113, -0.1846167 ],\n",
       "       [-0.95118713, -0.32195754,  2.67584903, -1.36296573, -1.32999381],\n",
       "       [ 0.99125165,  2.36363949, -0.37696718,  1.60874643,  0.9607604 ],\n",
       "       [-1.63366562, -1.06795671,  0.7971929 , -1.30231854, -1.32999381],\n",
       "       [ 0.80750745,  0.87164114,  0.56236088,  1.42680487,  1.96296536],\n",
       "       [-0.76744292, -1.06795671,  1.03202491, -1.42361291, -1.18682167],\n",
       "       [ 0.44001903,  1.46844048,  0.09269685,  0.63839144,  0.53124399],\n",
       "       [ 0.1775273 ,  1.61764032, -0.6117992 ,  0.69903863,  0.38807185],\n",
       "       [ 0.04628144,  0.57324147, -0.6117992 ,  0.21386113,  0.24489971],\n",
       "       [ 1.69997932,  0.57324147, -1.08146323,  1.18421612,  0.38807185],\n",
       "       [-0.47870202,  1.02084098,  0.32752887,  0.51709707,  0.53124399],\n",
       "       [ 0.09877978,  0.57324147, -0.6117992 ,  0.63839144,  0.10172757],\n",
       "       [-0.3999545 ,  1.17004081, -0.6117992 ,  0.57774425,  0.53124399],\n",
       "       [-0.16371195,  0.57324147, -0.37696718,  0.63839144,  0.38807185],\n",
       "       [-0.84619044, -1.21715655,  0.09269685, -1.30231854, -1.47316594],\n",
       "       [ 0.23002565,  0.42404164, -0.37696718,  0.51709707,  0.53124399],\n",
       "       [ 0.54501572, -0.32195754, -1.08146323,  0.45644988,  0.10172757],\n",
       "       [-0.63619705, -1.36635638, -0.14213517, -1.36296573, -1.18682167],\n",
       "       [-1.39742306, -0.47115737,  1.97135298, -1.42361291, -1.04364953],\n",
       "       [ 1.35874007, -0.1727577 , -0.6117992 ,  0.75968582,  1.24710467],\n",
       "       [-0.08496443, -0.1727577 , -0.14213517,  0.51709707,  0.53124399],\n",
       "       [-1.18742968, -1.36635638,  0.7971929 , -1.05972979, -1.32999381],\n",
       "       [-1.60741645, -1.96315572, -0.37696718, -1.36296573, -1.32999381],\n",
       "       [ 1.48998594,  0.72244131, -0.6117992 ,  0.69903863,  0.9607604 ],\n",
       "       [-1.23992803, -1.66475605,  1.26685693, -1.60555448, -1.32999381],\n",
       "       [-0.66244623, -0.91875688,  1.73652096, -1.05972979, -1.04364953],\n",
       "       [ 0.72875993,  0.72244131, -0.37696718,  0.39580269,  0.24489971],\n",
       "       [ 0.62376324, -1.06795671, -1.78595928, -0.21066918, -0.1846167 ],\n",
       "       [-1.13493134, -1.06795671,  0.7971929 , -1.24167135, -1.04364953],\n",
       "       [ 1.77872684,  1.02084098,  0.09269685,  1.12356894,  0.9607604 ],\n",
       "       [ 0.38752068, -0.47115737, -0.14213517,  0.51709707,  0.53124399],\n",
       "       [-1.10868216, -0.76955704,  1.03202491, -1.30231854, -1.32999381],\n",
       "       [ 1.51623511,  0.57324147, -0.14213517,  0.75968582,  0.9607604 ],\n",
       "       [ 1.64748097,  1.02084098, -0.6117992 ,  1.18421612,  1.53344895],\n",
       "       [-0.26870864, -0.76955704, -0.84663122,  0.15321395,  0.38807185],\n",
       "       [-1.34492472, -0.02355787,  1.73652096, -1.18102417, -1.18682167],\n",
       "       [ 0.36127151,  0.42404164, -0.84663122,  0.88098019,  0.67441612]])"
      ]
     },
     "execution_count": 44,
     "metadata": {},
     "output_type": "execute_result"
    }
   ],
   "source": [
    "ss.fit_transform(X_test)"
   ]
  },
  {
   "cell_type": "code",
   "execution_count": 45,
   "id": "ecffedc8",
   "metadata": {},
   "outputs": [
    {
     "data": {
      "text/plain": [
       "KNeighborsClassifier(n_neighbors=9)"
      ]
     },
     "execution_count": 45,
     "metadata": {},
     "output_type": "execute_result"
    }
   ],
   "source": [
    "from sklearn.neighbors import KNeighborsClassifier\n",
    "knn = KNeighborsClassifier(n_neighbors = 9, metric = 'minkowski', p = 2)\n",
    "knn.fit(X_train, y_train)"
   ]
  },
  {
   "cell_type": "code",
   "execution_count": 46,
   "id": "99925d3d",
   "metadata": {},
   "outputs": [
    {
     "data": {
      "text/plain": [
       "array([2, 1, 0, 2, 0, 2, 0, 1, 1, 1, 2, 1, 1, 1, 1, 0, 1, 1, 0, 0, 2, 1,\n",
       "       0, 0, 2, 0, 0, 1, 1, 0, 2, 1, 0, 2, 2, 1, 0, 1])"
      ]
     },
     "execution_count": 46,
     "metadata": {},
     "output_type": "execute_result"
    }
   ],
   "source": [
    "y_pred = knn.predict(X_test)\n",
    "y_pred"
   ]
  },
  {
   "cell_type": "code",
   "execution_count": 47,
   "id": "39961725",
   "metadata": {},
   "outputs": [
    {
     "name": "stdout",
     "output_type": "stream",
     "text": [
      "[[2 2]\n",
      " [1 1]\n",
      " [0 0]\n",
      " [2 2]\n",
      " [0 0]\n",
      " [2 2]\n",
      " [0 0]\n",
      " [1 1]\n",
      " [1 1]\n",
      " [1 1]\n",
      " [2 2]\n",
      " [1 1]\n",
      " [1 1]\n",
      " [1 1]\n",
      " [1 1]\n",
      " [0 0]\n",
      " [1 1]\n",
      " [1 1]\n",
      " [0 0]\n",
      " [0 0]\n",
      " [2 2]\n",
      " [1 1]\n",
      " [0 0]\n",
      " [0 0]\n",
      " [2 2]\n",
      " [0 0]\n",
      " [0 0]\n",
      " [1 1]\n",
      " [1 1]\n",
      " [0 0]\n",
      " [2 2]\n",
      " [1 1]\n",
      " [0 0]\n",
      " [2 2]\n",
      " [2 2]\n",
      " [1 1]\n",
      " [0 0]\n",
      " [1 1]]\n"
     ]
    }
   ],
   "source": [
    "y_test = y_test.values\n",
    "print(np.concatenate((y_pred.reshape(len(y_pred), 1),y_test.reshape(len(y_test),1)),1))"
   ]
  },
  {
   "cell_type": "code",
   "execution_count": 50,
   "id": "ac7307c9",
   "metadata": {},
   "outputs": [
    {
     "name": "stdout",
     "output_type": "stream",
     "text": [
      "              precision    recall  f1-score   support\n",
      "\n",
      "           0       1.00      1.00      1.00        13\n",
      "           1       1.00      1.00      1.00        16\n",
      "           2       1.00      1.00      1.00         9\n",
      "\n",
      "    accuracy                           1.00        38\n",
      "   macro avg       1.00      1.00      1.00        38\n",
      "weighted avg       1.00      1.00      1.00        38\n",
      "\n"
     ]
    }
   ],
   "source": [
    "from sklearn.metrics import classification_report\n",
    "print(classification_report(y_pred, y_test))"
   ]
  },
  {
   "cell_type": "code",
   "execution_count": 51,
   "id": "3d464ea9",
   "metadata": {},
   "outputs": [
    {
     "data": {
      "text/plain": [
       "1.0"
      ]
     },
     "execution_count": 51,
     "metadata": {},
     "output_type": "execute_result"
    }
   ],
   "source": [
    "from sklearn.metrics import accuracy_score\n",
    "accuracy_score(y_pred, y_test)"
   ]
  },
  {
   "cell_type": "code",
   "execution_count": null,
   "id": "1fb1d8a0",
   "metadata": {},
   "outputs": [],
   "source": []
  }
 ],
 "metadata": {
  "kernelspec": {
   "display_name": "Python 3 (ipykernel)",
   "language": "python",
   "name": "python3"
  },
  "language_info": {
   "codemirror_mode": {
    "name": "ipython",
    "version": 3
   },
   "file_extension": ".py",
   "mimetype": "text/x-python",
   "name": "python",
   "nbconvert_exporter": "python",
   "pygments_lexer": "ipython3",
   "version": "3.9.12"
  }
 },
 "nbformat": 4,
 "nbformat_minor": 5
}
